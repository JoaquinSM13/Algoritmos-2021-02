{
  "nbformat": 4,
  "nbformat_minor": 0,
  "metadata": {
    "colab": {
      "name": "TA2_Analisis.ipynb",
      "provenance": [],
      "authorship_tag": "ABX9TyOGo085a4PpXiwwVQ4biU3p",
      "include_colab_link": true
    },
    "kernelspec": {
      "name": "python3",
      "display_name": "Python 3"
    },
    "language_info": {
      "name": "python"
    }
  },
  "cells": [
    {
      "cell_type": "markdown",
      "metadata": {
        "id": "view-in-github",
        "colab_type": "text"
      },
      "source": [
        "<a href=\"https://colab.research.google.com/github/waltercueva/SS32-G06/blob/main/TA2_Analisis.ipynb\" target=\"_parent\"><img src=\"https://colab.research.google.com/assets/colab-badge.svg\" alt=\"Open In Colab\"/></a>"
      ]
    },
    {
      "cell_type": "markdown",
      "metadata": {
        "id": "YHASn3SMot4x"
      },
      "source": [
        "**TA2 - Analisis de Alogoritmos - Pregunta 1**\n",
        "```\n",
        "int s = 0;//1\n",
        "double prom = 0;//1\n",
        "for (int i = 0; i < n; i++) {//1+n(1+____+2)+1\n",
        "s = s + A[i];//3\n",
        "prom = s / (double) n;//3\n",
        "}\n",
        "printf(\"Suma:%d\\nProm:%d\", s, prom);//2\n",
        "// --------------- BIG(O) = n --------------------\n",
        "\n",
        "```\n",
        "\n"
      ]
    },
    {
      "cell_type": "markdown",
      "metadata": {
        "id": "jufSe1BSo568"
      },
      "source": [
        "**TA2 - Analisis de Alogoritmos - Pregunta 2**\n",
        "\n",
        "\n",
        "```\n",
        "int s = 0;//1\n",
        "double prom = 0;//1\n",
        "for (int i = 0; i < n; i++) {1+n(1+____+2)\n",
        "s = s + A[i];//3\n",
        "}\n",
        "prom = s / (double)n;//3\n",
        "printf(\"Suma:%d\\nProm:%d\", s, prom);//2\n",
        "// --------------- BIG(O) = n --------------------\n",
        "\n",
        "```\n",
        "\n"
      ]
    },
    {
      "cell_type": "markdown",
      "metadata": {
        "id": "PpP9QVxvo54d"
      },
      "source": [
        "**TA2 - Analisis de Alogoritmos - Pregunta 3**\n",
        "\n",
        "```\n",
        "for (int i = 0; i < n - 1; i++) {//1+n(2+_____+2)+1\n",
        "  for (int k = i + 1; k < n; k++) {2+n(n-1)/2(1+_____+2)+1\n",
        "    if (vec[i] > vec[k]) {//3+max(if,else)\n",
        "      int aux = vec[i];//2\n",
        "      vec[i] = vec[k];//3\n",
        "      vec[k] = aux;//2\n",
        "    }\n",
        "  }\n",
        "}\n",
        "// --------------- BIG(O) = n^2 --------------------\n",
        "\n",
        "```\n",
        "\n"
      ]
    },
    {
      "cell_type": "markdown",
      "metadata": {
        "id": "jB-Gl2oNo512"
      },
      "source": [
        "**TA2 - Analisis de Alogoritmos - Pregunta 4**\n",
        "\n",
        "```\n",
        "int frec[101] = {0};//1\n",
        "for (int i = 0; i < n; i++) {//1+n(1+____+2)+1\n",
        "  frec[vec[i]]++;//4\n",
        "}\n",
        "int pos = 0;//1\n",
        "for (int i = 0; i < 101; i++) {//1+101(1+____+2)+1\n",
        "  for (int k = 0; k < frec[i]; k++) {//1+n(n+1)/2(2+_____+2)+1\n",
        "    vec[pos] = i;//2\n",
        "    pos++;//2\n",
        "}\n",
        "}\n",
        "// --------------- BIG(O) = n^2 --------------------\n",
        "\n",
        "```\n",
        "\n"
      ]
    },
    {
      "cell_type": "markdown",
      "metadata": {
        "id": "dwidrMHto5zg"
      },
      "source": [
        "**TA2 - Analisis de Alogoritmos - Pregunta 6**\n",
        "\n",
        "```\n",
        "int fact = 1;//1\n",
        "for (int i = 2; i < n; i++) {//1+(n-1)(1+_____+2)\n",
        "fact *= i;//2\n",
        "}\n",
        "printf(\"Factorial: %d\", fact);//1\n",
        "// --------------- BIG(O) = n --------------------\n",
        "\n",
        "```\n",
        "\n"
      ]
    },
    {
      "cell_type": "markdown",
      "metadata": {
        "id": "uOzTa1xMo5wj"
      },
      "source": [
        "**TA2 - Analisis de Alogoritmos - Pregunta 8**\n",
        "\n",
        "```\n",
        "int pos = 0;//1\n",
        "for (int i = 1; i < n; i++) {//1+(n-1)(1+____+2)+1\n",
        "  if (vec[i] > vec[pos])//3+max(if)\n",
        "    pos = i;//1\n",
        "}\n",
        "printf(\"El mayor es: %d\", vec[pos]);//2\n",
        "// --------------- BIG(O) = n --------------------\n",
        "\n",
        "```\n",
        "\n"
      ]
    },
    {
      "cell_type": "markdown",
      "metadata": {
        "id": "Ktrj5jFyo5uF"
      },
      "source": [
        "**TA2 - Analisis de Alogoritmos - Pregunta 10**\n",
        "\n",
        "\n",
        "```\n",
        "int i=1;//1\n",
        "while (i < n) {1+(log(n)base 3+log(n)base 2)/2(______________)\n",
        "  if (vec[i] % 2 == 0)//3+max(if,else)\n",
        "    i *= 3;//2\n",
        "  else\n",
        "    i *= 2;//2\n",
        "}\n",
        "// --------------- BIG(O) = log(n) --------------------\n",
        "```\n",
        "\n"
      ]
    },
    {
      "cell_type": "markdown",
      "metadata": {
        "id": "LM-NRdTZo5Zq"
      },
      "source": [
        "**TA2 - Analisis de Alogoritmos - Pregunta 12**\n",
        "\n",
        "\n",
        "```\n",
        "int inf = 0;//1\n",
        "int sup = n - 1;//2\n",
        "int pos = -1;//1\n",
        "while ((pos == -1) && (sup >= inf)) {//2+\n",
        "  int medio = (inf + sup) / 2;\n",
        "  if (arreglo[medio] == 80)\n",
        "    pos = medio;\n",
        "  else if (arreglo[medio] < 80)\n",
        "    inf = medio + 1;\n",
        "  else\n",
        "    sup = medio - 1;\n",
        "}\n",
        "\n",
        "```\n",
        "\n"
      ]
    },
    {
      "cell_type": "markdown",
      "metadata": {
        "id": "U_ijiJUgpYNA"
      },
      "source": [
        "**TA2 - Analisis de Alogoritmos - Pregunta 13**\n",
        "\n",
        "\n",
        "```\n",
        "int main(){\n",
        "  int vec[10] = {1,4,3,234,5,123,7,8,1000,10}; //1\n",
        "  int mayor = 0; //1\n",
        "  int n = 10; //1\n",
        "  for(int i = 0; i < n; ++i){ // 1 + n(1+ __ +2)+1\n",
        "    if(mayor < vec[i]){ // 2\n",
        "      mayor = vec[i]; //2\n",
        "    }\n",
        "  }\n",
        "  cout << mayor; // 1\n",
        "} \n",
        "// --------------- BIG(O) = n --------------------\n",
        "```\n",
        "\n"
      ]
    },
    {
      "cell_type": "markdown",
      "metadata": {
        "id": "7sZ6pX-ApYLK"
      },
      "source": [
        "**TA2 - Analisis de Alogoritmos - Pregunta 14**\n",
        "\n",
        "```\n",
        "int main(){\n",
        "  int vec[10] = {1,4,3,234,5,123,7,8,1000,10}; //1\n",
        "  int aux = 0; //1\n",
        "  int n = 10; //1\n",
        "  for(int i = 0; i < n; ++i){ // 1 + n(1+ __ +2)+1\n",
        "    for(int j = i+1; j < n; ++j){ // 2 + n(1+ __ +2) + 1\n",
        "      if(vec[i] > vec[j]){ // 3\n",
        "        aux = vec[i]; //2 \n",
        "        vec[i]=vec[j]; //3\n",
        "        vec[j] = aux; //2\n",
        "      }\n",
        "    }\n",
        "  }\n",
        "  for(int i = 0; i < n; ++i) // 1 + n(1+__+2)+1\n",
        "    cout << vec[i] << \" \"; // 2\n",
        "} \n",
        "// --------------- BIG(O) = n^2 --------------------\n",
        "```\n",
        "\n"
      ]
    },
    {
      "cell_type": "markdown",
      "metadata": {
        "id": "7eOdk1U4pYJK"
      },
      "source": [
        "**TA2 - Analisis de Alogoritmos - Pregunta 15**\n",
        "\n",
        "```\n",
        "int main(){\n",
        "  int vec[10] = {1,4,3,234,5,123,7,8,1000,10}; //1\n",
        "  int pos = 4; //1\n",
        "  int n = 10; //1\n",
        "  int eliminado = vec[pos]; //2\n",
        "  for(int i = 0; i < n; ++i){ // 1 + n(1+ __ +2)+1\n",
        "    if(i == pos){ //1\n",
        "      while(i < n-1){ //2\n",
        "        vec[i] = vec[i+1]; // 3\n",
        "        i++; //2\n",
        "      }\n",
        "      break;\n",
        "    }\n",
        "  }\n",
        "  n = n-1; //2\n",
        "  for(int i = 0; i < n; ++i){ // 1 + n(1+ __ +2)+1\n",
        "    cout << vec[i] << \" \"; //2\n",
        "  }\n",
        "  cout<< \"\\n\" <<\"El elemento eliminado es: \" << eliminado; //3\n",
        "}\n",
        "// --------------- BIG(O) = n^2 -------------------\n",
        "```\n",
        "\n",
        "\n"
      ]
    },
    {
      "cell_type": "markdown",
      "metadata": {
        "id": "AhkrBxewpYGG"
      },
      "source": [
        "**TA2 - Analisis de Alogoritmos - Pregunta 16**\n",
        "\n",
        "```\n",
        "bool Comp(int Num){\n",
        "  int vec[10] = {1,4,3,234,5,123,7,8,1000,10}; //1\n",
        "  int n = 10; //1\n",
        "  for(int i = 0; i < n; ++i){ // 1 + n(1+ __ +2)+1\n",
        "    if(vec[i] == Num){ //2\n",
        "       cout << \"Si existe el numero: \"<< Num; // 2\n",
        "       return true; //1\n",
        "    }\n",
        "  }\n",
        "  return false; //1\n",
        "}\n",
        "int main(){\n",
        "  int Num = 123; // 1 \n",
        "  if(Comp(Num) == false){ //2\n",
        "    cout << \"No existe el numero: \"<< Num; //2\n",
        "  }\n",
        "}\n",
        "// --------------- BIG(O) = n -------------------\n",
        "\n",
        "```\n",
        "\n"
      ]
    },
    {
      "cell_type": "markdown",
      "metadata": {
        "id": "ibSP2ZzQpX4a"
      },
      "source": [
        "**TA2 - Analisis de Alogoritmos - Pregunta 17**\n",
        "\n",
        "\n",
        "```\n",
        "int main() {\n",
        "  int n = 5; // 1\n",
        "  int fact = 1;  // 1 \n",
        "  for(int i = 1; i <= n; ++i){  // 1 + n(1 +_ + 2) + 1\n",
        "   fact = fact * i; // 2\n",
        "  }\n",
        "  cout << \"El factorial de \" << n << \" es: \" << fact; \n",
        "}\n",
        "// --------------- BIG(O) = n -------------------\n",
        "```\n",
        "\n"
      ]
    },
    {
      "cell_type": "markdown",
      "metadata": {
        "id": "HyjUwe-VpX2A"
      },
      "source": [
        "**TA2 - Analisis de Alogoritmos - Pregunta 18**\n",
        "\n",
        "\n",
        "```\n",
        "int main(){\n",
        "  int vec[10] = {1,4,3,234,5,123,7,8,1000,10}; //1\n",
        "  int Num = 123; //1\n",
        "  int n = 10; //1\n",
        "  for(int i = 0; i < n; ++i){ // 1 + n(1+ __ +2)+1\n",
        "    if(vec[i] == Num){ //2\n",
        "       cout << \"Si existe el numero: \"<< Num; // 2\n",
        "    }\n",
        "  }\n",
        "}\n",
        "// --------------- BIG(O) = n -------------------\n",
        "```\n",
        "\n"
      ]
    },
    {
      "cell_type": "markdown",
      "metadata": {
        "id": "UNe1a7zdpXy-"
      },
      "source": [
        "**TA2 - Analisis de Alogoritmos - Pregunta 19**\n",
        "\n",
        "\n",
        "```\n",
        "int main(){\n",
        "  int vec[10] = {1,4,3,3,5,123,7,3,1000,3}; //1\n",
        "  int contador = 0;\n",
        "  int Num = 3; //1\n",
        "  int n = 10; //1\n",
        "  for(int i = 0; i < n; ++i){ // 1 + n(1+ __ +2)+1\n",
        "    if(vec[i] == Num){ //2\n",
        "     contador++; //2\n",
        "    }\n",
        "  }\n",
        "  if(contador > 0){\n",
        "      cout<<\"El numero \" << Num <<\" se encontro \" << contador << \" veces\" << endl; //6\n",
        "    }\n",
        "    else{ cout << \"No esta en el arreglo\";} //1\n",
        "}\n",
        "// --------------- BIG(O) = n -------------------\n",
        "```\n",
        "\n"
      ]
    },
    {
      "cell_type": "markdown",
      "metadata": {
        "id": "lusxk8kFpXqI"
      },
      "source": [
        "**TA2 - Analisis de Alogoritmos - Pregunta 20**\n",
        "\n",
        "```\n",
        "int main(){\n",
        " int numero = 13; //1\n",
        " int suma = 0; //1\n",
        "  while(numero > 0){ //2\n",
        "    suma = suma + numero % 10; //3\n",
        "    numero = numero / 10; //2\n",
        "  }\n",
        "  cout << \"La suma es: \"<< suma << endl; //3\n",
        "  return 0;\n",
        "}\n",
        "// --------------- BIG(O) = 1 -------------------\n",
        "```\n",
        "\n"
      ]
    },
    {
      "cell_type": "markdown",
      "metadata": {
        "id": "OrgTwvU_pvUI"
      },
      "source": [
        "**TA2 - Analisis de Alogoritmos - Pregunta 21**\n",
        "\n",
        "```\n",
        "bool Primo(int n){\n",
        "  if(n == 0 || n == 1 || n == 4) // 3  \n",
        "    return false; // 1\n",
        "  for(int i = 2; i < n / 2; ++i){ //1 + (n/2-2)(2+ __ +2)+1\n",
        "    if (n % i == 0) return false; // 2 + 1\n",
        "  }\n",
        "  return true; // 1\n",
        "}\n",
        "int main() {\n",
        "  if(Primo(32)){   //llamada a funcion = 1\n",
        "    cout<< \"El numero es primo\";  //1\n",
        "  }\n",
        "  else{ cout<< \"El numero no es primo\";}  // 1\n",
        "} \n",
        "// ---------- BIG(O) = n ------------------\n",
        "```\n",
        "\n"
      ]
    },
    {
      "cell_type": "markdown",
      "metadata": {
        "id": "GzpLu3Yqpx7m"
      },
      "source": [
        "**TA2 - Analisis de Alogoritmos - Pregunta 22**"
      ]
    }
  ]
}